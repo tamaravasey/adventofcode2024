{
 "cells": [
  {
   "cell_type": "markdown",
   "metadata": {},
   "source": [
    "# 2"
   ]
  },
  {
   "cell_type": "markdown",
   "metadata": {},
   "source": [
    "## Part 1"
   ]
  },
  {
   "cell_type": "code",
   "execution_count": 3,
   "metadata": {},
   "outputs": [],
   "source": [
    "PUZZLE = 2\n",
    "import pathlib\n",
    "\n",
    "INPUT_DIR = pathlib.Path('c:/tbv/git/adventofcode2024/inputs/')\n",
    "INPUT = INPUT_DIR.joinpath(f'{PUZZLE}.txt')"
   ]
  },
  {
   "cell_type": "code",
   "execution_count": 28,
   "metadata": {},
   "outputs": [],
   "source": [
    "import csv\n",
    "\n",
    "rows = []\n",
    "\n",
    "with open(INPUT) as f:\n",
    "    reader = csv.reader(f, delimiter=' ')\n",
    "    for row in reader:\n",
    "        rows.append([int(r) for r in row])"
   ]
  },
  {
   "cell_type": "markdown",
   "metadata": {},
   "source": []
  },
  {
   "cell_type": "code",
   "execution_count": 40,
   "metadata": {},
   "outputs": [],
   "source": [
    "def is_sorted(row):\n",
    "    if row == sorted(row) or row == sorted(row, reverse=True):\n",
    "        return True\n",
    "    return False\n",
    "\n",
    "def safe_increments(row):\n",
    "    for idx in range(len(row)-1):\n",
    "        if abs(row[idx] - row[idx+1]) >= 4 or row[idx] == row[idx+1]:\n",
    "            return False\n",
    "    return True\n",
    "\n",
    "\n",
    "def is_safe(row):\n",
    "    if is_sorted(row):\n",
    "        # check incremenets\n",
    "        return safe_increments(row)\n",
    "    else:\n",
    "        return False"
   ]
  },
  {
   "cell_type": "code",
   "execution_count": 41,
   "metadata": {},
   "outputs": [
    {
     "data": {
      "text/plain": [
       "246"
      ]
     },
     "execution_count": 41,
     "metadata": {},
     "output_type": "execute_result"
    }
   ],
   "source": [
    "safe = 0\n",
    "\n",
    "for row in rows:\n",
    "    if is_safe(row):\n",
    "        safe += 1\n",
    "        \n",
    "safe"
   ]
  },
  {
   "cell_type": "markdown",
   "metadata": {},
   "source": [
    "## Part 2"
   ]
  },
  {
   "cell_type": "code",
   "execution_count": null,
   "metadata": {},
   "outputs": [
    {
     "name": "stdout",
     "output_type": "stream",
     "text": [
      "318\n"
     ]
    }
   ],
   "source": [
    "def has_safe_subset(row):\n",
    "    safe = False\n",
    "    for idx in range(len(row)):\n",
    "        row_subset = [r for (i, r) in enumerate(row) if i != idx]\n",
    "        safe = safe or is_safe(row_subset) # if any are True, it'll be True\n",
    "        \n",
    "    return safe\n",
    "\n",
    "s = 0\n",
    "for row in rows:\n",
    "    if is_safe(row):\n",
    "        s += 1\n",
    "    else:\n",
    "        if has_safe_subset(row):\n",
    "            s += 1\n",
    "            \n",
    "print(s)"
   ]
  },
  {
   "cell_type": "code",
   "execution_count": null,
   "metadata": {},
   "outputs": [],
   "source": []
  }
 ],
 "metadata": {
  "kernelspec": {
   "display_name": "Python 3",
   "language": "python",
   "name": "python3"
  },
  "language_info": {
   "codemirror_mode": {
    "name": "ipython",
    "version": 3
   },
   "file_extension": ".py",
   "mimetype": "text/x-python",
   "name": "python",
   "nbconvert_exporter": "python",
   "pygments_lexer": "ipython3",
   "version": "3.12.3"
  }
 },
 "nbformat": 4,
 "nbformat_minor": 2
}
