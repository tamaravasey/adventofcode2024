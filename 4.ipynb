{
 "cells": [
  {
   "cell_type": "markdown",
   "metadata": {},
   "source": [
    "# 4"
   ]
  },
  {
   "cell_type": "markdown",
   "metadata": {},
   "source": [
    "## Part 1"
   ]
  },
  {
   "cell_type": "code",
   "execution_count": null,
   "metadata": {},
   "outputs": [],
   "source": [
    "PUZZLE = 4\n",
    "import pathlib\n",
    "\n",
    "INPUT_DIR = pathlib.Path('c:/tbv/git/adventofcode2024/inputs/')\n",
    "INPUT = INPUT_DIR.joinpath(f'{PUZZLE}.txt')"
   ]
  },
  {
   "cell_type": "code",
   "execution_count": null,
   "metadata": {},
   "outputs": [],
   "source": [
    "rows = []\n",
    "with open(INPUT) as f:\n",
    "    for row in f.readlines():\n",
    "        rows.append(row.strip())\n",
    "        \n",
    "rows[0]"
   ]
  },
  {
   "cell_type": "code",
   "execution_count": null,
   "metadata": {},
   "outputs": [],
   "source": [
    "def find_in_row(row):\n",
    "    \"\"\" Within a row, search for the letter X. If sufficient space, search for XMAS in either direction. \"\"\"\n",
    "    count = 0\n",
    "    for idx, letter in enumerate(row):\n",
    "        if letter == 'X':\n",
    "            # check forwards\n",
    "            if idx+3 < len(row):\n",
    "                if row[idx+1] == 'M' and row[idx+2] == 'A' and row[idx+3] == 'S':\n",
    "                    count += 1\n",
    "            # check backwards\n",
    "            if idx-3 >= 0:\n",
    "                if row[idx-1] == 'M' and row[idx-2] == 'A' and row[idx-3] == 'S':\n",
    "                    count += 1\n",
    "    return count"
   ]
  },
  {
   "cell_type": "code",
   "execution_count": null,
   "metadata": {},
   "outputs": [],
   "source": [
    "def count_xmas(rows):\n",
    "    \"\"\" Apply the in-row search to all rows, columns, and diagonals. \"\"\"\n",
    "    total = 0\n",
    "    for row in rows:\n",
    "        # count in rows\n",
    "        total += find_in_row(row)\n",
    "\n",
    "    # count in columns by converting list of rows to list of columns\n",
    "    columns = list(map(list, zip(*rows)))\n",
    "    for col in columns:\n",
    "        total += find_in_row(col)\n",
    "       \n",
    "    # COPILOT SOLUTION FOR DIAGONALS \n",
    "    #-----------\n",
    "    # count in diagonals\n",
    "    n = len(rows)\n",
    "    diagonals = []\n",
    "\n",
    "    # top-left to bottom-right diagonals\n",
    "    for d in range(2 * n - 1):\n",
    "        diag = []\n",
    "        for i in range(max(0, d - n + 1), min(n, d + 1)):\n",
    "            diag.append(rows[i][d - i])\n",
    "        diagonals.append(diag)\n",
    "\n",
    "    # bottom-left to top-right diagonals\n",
    "    for d in range(2 * n - 1):\n",
    "        diag = []\n",
    "        for i in range(max(0, d - n + 1), min(n, d + 1)):\n",
    "            diag.append(rows[n - 1 - i][d - i])\n",
    "        diagonals.append(diag)\n",
    "    #--------------\n",
    "\n",
    "    for diag in diagonals:\n",
    "        total += find_in_row(diag)\n",
    "        \n",
    "    return total\n",
    "\n",
    "total = count_xmas(rows)\n",
    "print(total)"
   ]
  },
  {
   "cell_type": "markdown",
   "metadata": {},
   "source": [
    "## Part 2"
   ]
  },
  {
   "cell_type": "code",
   "execution_count": null,
   "metadata": {},
   "outputs": [],
   "source": [
    "#X-MAS instead \n",
    "# M.S\n",
    "# .A.\n",
    "# M.S\n",
    "\n",
    "# for every letter A, search for M and S along the diagonals\n",
    "# coordinates are:\n",
    "# 00 01 02\n",
    "# 10 11 12\n",
    "# 20 21 22\n",
    "# ie A[i-1, j+1] and A[i+1, j-1] need to be (M,S)\n",
    "\n",
    "import numpy\n",
    "def find_x_mas(rows):\n",
    "    count = 0\n",
    "    # turn list of lists into numpy array\n",
    "    array = numpy.array([list(row) for row in rows])\n",
    "    \n",
    "    for i in range(array.shape[0]):\n",
    "        for j in range(array.shape[1]):\n",
    "            if array[i,j] == 'A':\n",
    "                \n",
    "                # check bounds\n",
    "                if i-1 >= 0 and j+1 < array.shape[1] and i+1 < array.shape[0] and j-1 >= 0:\n",
    "                    \n",
    "                    # each diagonal must be the set M, S\n",
    "                    diag_1 = set([array[i-1, j-1], array[i+1, j+1]])\n",
    "                    diag_2 = set([array[i-1, j+1], array[i+1, j-1]])\n",
    "                    \n",
    "                    if diag_1 == diag_2 and diag_1 == {'M', 'S'}:\n",
    "                        count += 1\n",
    "                    \n",
    "    return count\n",
    "    \n",
    "total = find_x_mas(rows)\n",
    "print(total)"
   ]
  }
 ],
 "metadata": {
  "kernelspec": {
   "display_name": "Python 3",
   "language": "python",
   "name": "python3"
  },
  "language_info": {
   "codemirror_mode": {
    "name": "ipython",
    "version": 3
   },
   "file_extension": ".py",
   "mimetype": "text/x-python",
   "name": "python",
   "nbconvert_exporter": "python",
   "pygments_lexer": "ipython3",
   "version": "3.12.3"
  }
 },
 "nbformat": 4,
 "nbformat_minor": 2
}
