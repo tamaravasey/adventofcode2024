{
 "cells": [
  {
   "cell_type": "markdown",
   "metadata": {},
   "source": [
    "# 1"
   ]
  },
  {
   "cell_type": "markdown",
   "metadata": {},
   "source": [
    "## Part 1"
   ]
  },
  {
   "cell_type": "code",
   "execution_count": null,
   "metadata": {},
   "outputs": [],
   "source": [
    "PUZZLE = 1"
   ]
  },
  {
   "cell_type": "code",
   "execution_count": null,
   "metadata": {},
   "outputs": [],
   "source": [
    "import pathlib\n",
    "\n",
    "INPUT_DIR = pathlib.Path('c:/tbv/git/adventofcode2024/inputs/')\n",
    "INPUT = INPUT_DIR.joinpath(f'{PUZZLE}.txt')"
   ]
  },
  {
   "cell_type": "code",
   "execution_count": null,
   "metadata": {},
   "outputs": [],
   "source": [
    "import pandas\n",
    "\n",
    "df = pandas.read_csv(INPUT, header=None, delim_whitespace=True)"
   ]
  },
  {
   "cell_type": "code",
   "execution_count": 24,
   "metadata": {},
   "outputs": [
    {
     "data": {
      "text/html": [
       "<div>\n",
       "<style scoped>\n",
       "    .dataframe tbody tr th:only-of-type {\n",
       "        vertical-align: middle;\n",
       "    }\n",
       "\n",
       "    .dataframe tbody tr th {\n",
       "        vertical-align: top;\n",
       "    }\n",
       "\n",
       "    .dataframe thead th {\n",
       "        text-align: right;\n",
       "    }\n",
       "</style>\n",
       "<table border=\"1\" class=\"dataframe\">\n",
       "  <thead>\n",
       "    <tr style=\"text-align: right;\">\n",
       "      <th></th>\n",
       "      <th>0</th>\n",
       "      <th>1</th>\n",
       "      <th>sorted_0</th>\n",
       "      <th>sorted_1</th>\n",
       "      <th>diff</th>\n",
       "    </tr>\n",
       "  </thead>\n",
       "  <tbody>\n",
       "    <tr>\n",
       "      <th>0</th>\n",
       "      <td>84283</td>\n",
       "      <td>63343</td>\n",
       "      <td>10024</td>\n",
       "      <td>10077</td>\n",
       "      <td>53</td>\n",
       "    </tr>\n",
       "    <tr>\n",
       "      <th>1</th>\n",
       "      <td>35360</td>\n",
       "      <td>98209</td>\n",
       "      <td>10131</td>\n",
       "      <td>10225</td>\n",
       "      <td>94</td>\n",
       "    </tr>\n",
       "    <tr>\n",
       "      <th>2</th>\n",
       "      <td>17841</td>\n",
       "      <td>84541</td>\n",
       "      <td>10183</td>\n",
       "      <td>10252</td>\n",
       "      <td>69</td>\n",
       "    </tr>\n",
       "    <tr>\n",
       "      <th>3</th>\n",
       "      <td>22035</td>\n",
       "      <td>44413</td>\n",
       "      <td>10188</td>\n",
       "      <td>10470</td>\n",
       "      <td>282</td>\n",
       "    </tr>\n",
       "    <tr>\n",
       "      <th>4</th>\n",
       "      <td>43645</td>\n",
       "      <td>22440</td>\n",
       "      <td>10226</td>\n",
       "      <td>10504</td>\n",
       "      <td>278</td>\n",
       "    </tr>\n",
       "    <tr>\n",
       "      <th>...</th>\n",
       "      <td>...</td>\n",
       "      <td>...</td>\n",
       "      <td>...</td>\n",
       "      <td>...</td>\n",
       "      <td>...</td>\n",
       "    </tr>\n",
       "    <tr>\n",
       "      <th>995</th>\n",
       "      <td>37271</td>\n",
       "      <td>78110</td>\n",
       "      <td>99675</td>\n",
       "      <td>99602</td>\n",
       "      <td>73</td>\n",
       "    </tr>\n",
       "    <tr>\n",
       "      <th>996</th>\n",
       "      <td>59764</td>\n",
       "      <td>98477</td>\n",
       "      <td>99683</td>\n",
       "      <td>99706</td>\n",
       "      <td>23</td>\n",
       "    </tr>\n",
       "    <tr>\n",
       "      <th>997</th>\n",
       "      <td>63559</td>\n",
       "      <td>55088</td>\n",
       "      <td>99684</td>\n",
       "      <td>99803</td>\n",
       "      <td>119</td>\n",
       "    </tr>\n",
       "    <tr>\n",
       "      <th>998</th>\n",
       "      <td>21472</td>\n",
       "      <td>92869</td>\n",
       "      <td>99973</td>\n",
       "      <td>99820</td>\n",
       "      <td>153</td>\n",
       "    </tr>\n",
       "    <tr>\n",
       "      <th>999</th>\n",
       "      <td>70180</td>\n",
       "      <td>11171</td>\n",
       "      <td>99990</td>\n",
       "      <td>99901</td>\n",
       "      <td>89</td>\n",
       "    </tr>\n",
       "  </tbody>\n",
       "</table>\n",
       "<p>1000 rows × 5 columns</p>\n",
       "</div>"
      ],
      "text/plain": [
       "         0      1  sorted_0  sorted_1  diff\n",
       "0    84283  63343     10024     10077    53\n",
       "1    35360  98209     10131     10225    94\n",
       "2    17841  84541     10183     10252    69\n",
       "3    22035  44413     10188     10470   282\n",
       "4    43645  22440     10226     10504   278\n",
       "..     ...    ...       ...       ...   ...\n",
       "995  37271  78110     99675     99602    73\n",
       "996  59764  98477     99683     99706    23\n",
       "997  63559  55088     99684     99803   119\n",
       "998  21472  92869     99973     99820   153\n",
       "999  70180  11171     99990     99901    89\n",
       "\n",
       "[1000 rows x 5 columns]"
      ]
     },
     "execution_count": 24,
     "metadata": {},
     "output_type": "execute_result"
    }
   ],
   "source": [
    "df"
   ]
  },
  {
   "cell_type": "code",
   "execution_count": null,
   "metadata": {},
   "outputs": [],
   "source": [
    "# calculate distances between sorted lists, then sum them\n",
    "\n",
    "df['sorted_0'] = df[0].sort_values().values\n",
    "df['sorted_1'] = df[1].sort_values().values\n",
    "\n",
    "df['diff'] = abs(df['sorted_0'] - df['sorted_1'])\n",
    "df"
   ]
  },
  {
   "cell_type": "code",
   "execution_count": null,
   "metadata": {},
   "outputs": [],
   "source": [
    "distance_sum = df['diff'].sum()\n",
    "distance_sum"
   ]
  },
  {
   "cell_type": "markdown",
   "metadata": {},
   "source": [
    "## Part 2"
   ]
  },
  {
   "cell_type": "code",
   "execution_count": 47,
   "metadata": {},
   "outputs": [
    {
     "data": {
      "text/plain": [
       "11171"
      ]
     },
     "execution_count": 47,
     "metadata": {},
     "output_type": "execute_result"
    }
   ],
   "source": [
    "# calculate 'similarity scores' between lists, then sum them\n",
    "def similarity_score(number, series):\n",
    "    find = series.loc[series == number]\n",
    "    if find.shape[0] > 0:\n",
    "        value = find.values[0]\n",
    "    else:\n",
    "        value = 0\n",
    "    return value * find.shape[0]\n",
    "    \n",
    "similarity_score(11171, df[1])"
   ]
  },
  {
   "cell_type": "code",
   "execution_count": 50,
   "metadata": {},
   "outputs": [
    {
     "name": "stdout",
     "output_type": "stream",
     "text": [
      "19437052\n"
     ]
    }
   ],
   "source": [
    "sum = 0\n",
    "\n",
    "for row in df[0]:\n",
    "    ss = similarity_score(row, df[1])\n",
    "    sum += ss\n",
    "    \n",
    "print(sum)"
   ]
  },
  {
   "cell_type": "code",
   "execution_count": null,
   "metadata": {},
   "outputs": [],
   "source": []
  }
 ],
 "metadata": {
  "kernelspec": {
   "display_name": "Python 3",
   "language": "python",
   "name": "python3"
  },
  "language_info": {
   "codemirror_mode": {
    "name": "ipython",
    "version": 3
   },
   "file_extension": ".py",
   "mimetype": "text/x-python",
   "name": "python",
   "nbconvert_exporter": "python",
   "pygments_lexer": "ipython3",
   "version": "3.12.3"
  }
 },
 "nbformat": 4,
 "nbformat_minor": 2
}
