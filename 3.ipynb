{
 "cells": [
  {
   "cell_type": "markdown",
   "metadata": {},
   "source": [
    "# 3"
   ]
  },
  {
   "cell_type": "markdown",
   "metadata": {},
   "source": [
    "## Part 1"
   ]
  },
  {
   "cell_type": "code",
   "execution_count": null,
   "metadata": {},
   "outputs": [],
   "source": [
    "PUZZLE = 3\n",
    "import pathlib\n",
    "\n",
    "INPUT_DIR = pathlib.Path('c:/tbv/git/adventofcode2024/inputs/')\n",
    "INPUT = INPUT_DIR.joinpath(f'{PUZZLE}.txt')"
   ]
  },
  {
   "cell_type": "code",
   "execution_count": null,
   "metadata": {},
   "outputs": [],
   "source": [
    "rows = []\n",
    "with open(INPUT) as f:\n",
    "    for row in f.readlines():\n",
    "        rows.append(row.strip())"
   ]
  },
  {
   "cell_type": "code",
   "execution_count": null,
   "metadata": {},
   "outputs": [],
   "source": [
    "import re\n",
    "\n",
    "def extract_mul(row_string):\n",
    "    regex = re.compile(r'mul\\(\\d+,\\d+\\)')\n",
    "    return regex.findall(row_string)\n",
    "    \n",
    "def get_all_mul(rows):\n",
    "    all_instrs = []\n",
    "    for row in rows:\n",
    "        all_instrs += extract_mul(row)\n",
    "        \n",
    "    return all_instrs\n",
    "\n",
    "all_instrs = get_all_mul(rows)"
   ]
  },
  {
   "cell_type": "code",
   "execution_count": null,
   "metadata": {},
   "outputs": [],
   "source": [
    "\n",
    "def count_mul_total(all_instrs):\n",
    "    total = 0 \n",
    "    for instr in all_instrs:\n",
    "        xy = (instr.split('(')[1].split(')')[0].split(','))\n",
    "        product = int(xy[0]) * int(xy[1])\n",
    "        total += product\n",
    "        \n",
    "    return total\n",
    "    \n",
    "print(count_mul_total(all_instrs))\n",
    "    "
   ]
  },
  {
   "cell_type": "markdown",
   "metadata": {},
   "source": [
    "## Part 2"
   ]
  },
  {
   "cell_type": "code",
   "execution_count": null,
   "metadata": {},
   "outputs": [],
   "source": [
    "# the idea is:\n",
    "# add do() at the start, then\n",
    "# split the rows accoring to do() - this removes all the dos() and each string is everything that comes after a do(), all the way up to the next do()\n",
    "# then split the rows accoridng to dont() - this removes don't(). we want to keep the first string (everything before the dont()) and drop the rest (between dont and next do)\n",
    "\n",
    "do_string = 'do()'\n",
    "dont_string = \"don't()\"\n",
    "prefix = do_string\n",
    "\n",
    "# concat everything to make it easier to split \n",
    "new_rows = prefix\n",
    "for row in rows:\n",
    "    new_rows += row\n",
    "\n",
    "t = 0 \n",
    "\n",
    "does = new_rows.split(do_string)[1:] # drop empty string at strt\n",
    "# for d in does:\n",
    "#     print(d)\n",
    "\n",
    "keep = []\n",
    "for d in does:\n",
    "    dd = d.split(dont_string)\n",
    "    keep.append(dd[0])\n",
    "\n",
    "all = get_all_mul(keep)\n",
    "t += count_mul_total(all)\n",
    "    \n",
    "print(t)"
   ]
  },
  {
   "cell_type": "code",
   "execution_count": null,
   "metadata": {},
   "outputs": [],
   "source": [
    "assert t < 167090022"
   ]
  },
  {
   "cell_type": "code",
   "execution_count": null,
   "metadata": {},
   "outputs": [],
   "source": []
  }
 ],
 "metadata": {
  "kernelspec": {
   "display_name": "Python 3",
   "language": "python",
   "name": "python3"
  },
  "language_info": {
   "codemirror_mode": {
    "name": "ipython",
    "version": 3
   },
   "file_extension": ".py",
   "mimetype": "text/x-python",
   "name": "python",
   "nbconvert_exporter": "python",
   "pygments_lexer": "ipython3",
   "version": "3.12.3"
  }
 },
 "nbformat": 4,
 "nbformat_minor": 2
}
